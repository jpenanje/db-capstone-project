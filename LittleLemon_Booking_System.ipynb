{
 "cells": [
  {
   "cell_type": "code",
   "execution_count": 15,
   "id": "42af8fdd-7475-4921-90b5-d2c012939901",
   "metadata": {},
   "outputs": [
    {
     "name": "stdout",
     "output_type": "stream",
     "text": [
      "Requirement already satisfied: mysql-connector-python in c:\\users\\penanje a. p. jr23\\appdata\\local\\programs\\python\\python312\\lib\\site-packages (8.2.0)\n",
      "Requirement already satisfied: protobuf<=4.21.12,>=4.21.1 in c:\\users\\penanje a. p. jr23\\appdata\\local\\programs\\python\\python312\\lib\\site-packages (from mysql-connector-python) (4.21.12)\n"
     ]
    },
    {
     "name": "stderr",
     "output_type": "stream",
     "text": [
      "\n",
      "[notice] A new release of pip is available: 23.2.1 -> 23.3.2\n",
      "[notice] To update, run: python.exe -m pip install --upgrade pip\n"
     ]
    }
   ],
   "source": [
    "!pip install mysql-connector-python"
   ]
  },
  {
   "cell_type": "code",
   "execution_count": 16,
   "id": "1d9830e4-bde0-42cd-94ce-c4f203f2649a",
   "metadata": {},
   "outputs": [],
   "source": [
    "import mysql.connector as connector"
   ]
  },
  {
   "cell_type": "code",
   "execution_count": 17,
   "id": "3865d52a-854f-4861-973c-25db7864ad38",
   "metadata": {},
   "outputs": [],
   "source": [
    "connection = connector.connect(user = \"root\", password = \"can't disclose password\")"
   ]
  },
  {
   "cell_type": "code",
   "execution_count": 18,
   "id": "74bb1547-ec8d-4ff6-976c-4ce472f002a6",
   "metadata": {},
   "outputs": [],
   "source": [
    "cursor = connection.cursor();"
   ]
  },
  {
   "cell_type": "code",
   "execution_count": 19,
   "id": "8c57c067-5ab7-4a0f-8727-d023cd58489c",
   "metadata": {},
   "outputs": [],
   "source": [
    "use_database = \"\"\"USE littlelemondb\"\"\"\n",
    "cursor.execute(use_database)"
   ]
  },
  {
   "cell_type": "code",
   "execution_count": 20,
   "id": "e070bab1-b48c-4016-87f8-06c32061481f",
   "metadata": {},
   "outputs": [
    {
     "name": "stdout",
     "output_type": "stream",
     "text": [
      "[('bookings',), ('customer',), ('menu',), ('menuitems',), ('orderdeliverystatus',), ('orders',), ('ordersview',), ('staff',)]\n"
     ]
    }
   ],
   "source": [
    "cursor.execute(\"\"\"SHOW TABLES\"\"\")\n",
    "results = cursor.fetchall()\n",
    "print(results)"
   ]
  },
  {
   "cell_type": "code",
   "execution_count": 21,
   "id": "ee27fc33-1c29-4d3b-a8c6-e6d6c03fe768",
   "metadata": {},
   "outputs": [
    {
     "name": "stdout",
     "output_type": "stream",
     "text": [
      "('fullname', 'phonenumber', 'email', 'totalcost')\n",
      "('Anna Iversen', 675876798, 'ai@mail.com', Decimal('250'))\n",
      "('Joachim Iverson', 698754325, 'ji@mail.com', Decimal('200'))\n"
     ]
    }
   ],
   "source": [
    "join_query = \"\"\"\n",
    "SELECT customer.fullname, customer.phonenumber, customer.email, orders.totalcost\n",
    "FROM customer INNER JOIN orders\n",
    "ON\n",
    "customer.customerid = orders.customer_customerid\n",
    "WHERE\n",
    "orders.totalcost > 60\n",
    "\"\"\"\n",
    "cursor.execute(join_query)\n",
    "results = cursor.fetchall()\n",
    "cols = cursor.column_names\n",
    "print(cols)\n",
    "for result in results:\n",
    "    print(result)"
   ]
  },
  {
   "cell_type": "code",
   "execution_count": null,
   "id": "a74c525d-e061-487a-8049-9c25259ea6b1",
   "metadata": {},
   "outputs": [],
   "source": []
  }
 ],
 "metadata": {
  "kernelspec": {
   "display_name": "Python 3 (ipykernel)",
   "language": "python",
   "name": "python3"
  },
  "language_info": {
   "codemirror_mode": {
    "name": "ipython",
    "version": 3
   },
   "file_extension": ".py",
   "mimetype": "text/x-python",
   "name": "python",
   "nbconvert_exporter": "python",
   "pygments_lexer": "ipython3",
   "version": "3.12.0"
  }
 },
 "nbformat": 4,
 "nbformat_minor": 5
}
